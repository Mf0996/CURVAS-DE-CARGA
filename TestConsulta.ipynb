{
 "cells": [
  {
   "cell_type": "code",
   "execution_count": 1,
   "metadata": {},
   "outputs": [],
   "source": [
    "import pandas as pd\n",
    "import glob\n",
    "import decimal\n",
    "import pyodbc"
   ]
  },
  {
   "cell_type": "code",
   "execution_count": 2,
   "metadata": {},
   "outputs": [],
   "source": [
    "conn_prod = pyodbc.connect('Driver={SQL Server}; Server=10.241.109.41,20010\\\\OASYSHDB;Database=EPSA_Reporting;UID=epsareportes; PWD=Epsa.2020!;')"
   ]
  },
  {
   "cell_type": "code",
   "execution_count": 3,
   "metadata": {},
   "outputs": [
    {
     "name": "stderr",
     "output_type": "stream",
     "text": [
      "C:\\Users\\mfhernandezp\\AppData\\Roaming\\Python\\Python310\\site-packages\\pandas\\io\\sql.py:761: UserWarning: pandas only support SQLAlchemy connectable(engine/connection) ordatabase string URI or sqlite3 DBAPI2 connectionother DBAPI2 objects are not tested, please consider using SQLAlchemy\n",
      "  warnings.warn(\n"
     ]
    }
   ],
   "source": [
    "dff=pd.read_sql_query(\"\"\"EXEC\t[EPSA_Reporting].[dbo].[sp_AgregacionAnalogaHora] \t@f_ini = N'2022-06-18 00:00:00', @f_fin = N'2022-06-20 00:00:00', @Measure_Type = N'POTENCIA ACTIVA', @p_Unit = N'MW' \"\"\",\n",
    "conn_prod,\n",
    "coerce_float=False\n",
    ").fillna(0)\n",
    "\n",
    "##dff1=pd.read_sql_query(\"\"\"EXEC\t[EPSA_Reporting].[dbo].[sp_AgregacionAnalogaHora] \t@f_ini = N'2021-07-01 00:00:00', @f_fin = N'2021-07-02 00:00:00', @Measure_Type = N'POTENCIA ACTIVA', @p_Unit = N'MW' \"\"\",\n",
    "##conn_prod,\n",
    "##coerce_float=False\n",
    "##).fillna(0)\n",
    "\n",
    "##dff2=pd.read_sql_query(\"\"\"EXEC\t[EPSA_Reporting].[dbo].[sp_AgregacionAnalogaHora] \t@f_ini = N'2021-08-01 00:00:00', @f_fin = N'2021-08-02 00:00:00', @Measure_Type = N'POTENCIA ACTIVA', @p_Unit = N'MW' \"\"\",\n",
    "##conn_prod,\n",
    "##coerce_float=False\n",
    "##).fillna(0)\n",
    "\n",
    "##dff3=pd.read_sql_query(\"\"\"EXEC\t[EPSA_Reporting].[dbo].[sp_AgregacionAnalogaHora] \t@f_ini = N'2021-09-01 00:00:00', @f_fin = N'2021-09-02 00:00:00', @Measure_Type = N'POTENCIA ACTIVA', @p_Unit = N'MW' \"\"\",\n",
    "##conn_prod,\n",
    "##coerce_float=False\n",
    "##).fillna(0)\n",
    "\n",
    "##dff4=pd.read_sql_query(\"\"\"EXEC\t[EPSA_Reporting].[dbo].[sp_AgregacionAnalogaHora] \t@f_ini = N'2021-10-01 00:00:00', @f_fin = N'2021-10-02 00:00:00', @Measure_Type = N'POTENCIA ACTIVA', @p_Unit = N'MW' \"\"\",\n",
    "##conn_prod,\n",
    "##coerce_float=False\n",
    "##).fillna(0)"
   ]
  },
  {
   "cell_type": "code",
   "execution_count": 4,
   "metadata": {},
   "outputs": [],
   "source": [
    "#df=pd.concat([dff,dff1,dff2,dff3,dff4],sort=False)\n",
    "#df=dff.values.tolist()\n",
    "df=dff\n",
    "#print (df)"
   ]
  },
  {
   "cell_type": "code",
   "execution_count": 5,
   "metadata": {},
   "outputs": [],
   "source": [
    "df['Hour'] = df['FECHA_FIN'].str.split(' ', expand=True)[1]\n",
    "\n"
   ]
  },
  {
   "cell_type": "code",
   "execution_count": 6,
   "metadata": {},
   "outputs": [
    {
     "name": "stdout",
     "output_type": "stream",
     "text": [
      "0         2022-06-18\n",
      "1         2022-06-18\n",
      "2         2022-06-18\n",
      "3         2022-06-18\n",
      "4         2022-06-18\n",
      "             ...    \n",
      "155803    2022-06-20\n",
      "155804    2022-06-20\n",
      "155805    2022-06-20\n",
      "155806    2022-06-20\n",
      "155807    2022-06-20\n",
      "Name: date, Length: 155808, dtype: object\n"
     ]
    }
   ],
   "source": [
    "import datetime\n",
    "from datetime import datetime\n",
    "df['date'] = df['FECHA_FIN'].str.split(' ', expand=True)[0]\n",
    "df['Day']= pd.to_datetime(df['date']).dt.day_name()\n",
    "PromH=df.groupby(['PUNTO_SCADA', 'Day', 'Hour']).AVG.mean()#.reset_index(drop=False)\n",
    "PromD=df.groupby(['PUNTO_SCADA', 'Day']).AVG.mean()#.reset_index(drop=False)\n",
    "df2=pd.merge(PromH,PromD,on='PUNTO_SCADA').reset_index(drop=False)\n",
    "df[\"PU\"]= df2[\"AVG_x\"].div(df2[\"AVG_y\"].values).fillna(0)\n",
    "df\n",
    "print(df['date'])"
   ]
  },
  {
   "cell_type": "code",
   "execution_count": 7,
   "metadata": {},
   "outputs": [
    {
     "name": "stdout",
     "output_type": "stream",
     "text": [
      "0     2020-01-01\n",
      "1     2020-01-06\n",
      "2     2020-03-23\n",
      "3     2020-04-09\n",
      "4     2020-04-10\n",
      "5     2020-05-01\n",
      "6     2020-05-25\n",
      "7     2020-06-15\n",
      "8     2020-06-22\n",
      "9     2020-06-29\n",
      "10    2020-07-20\n",
      "11    2020-08-07\n",
      "12    2020-08-17\n",
      "13    2020-10-12\n",
      "14    2020-11-02\n",
      "15    2020-11-16\n",
      "16    2020-12-08\n",
      "17    2020-12-25\n",
      "18    2021-01-01\n",
      "19    2021-01-11\n",
      "20    2021-03-22\n",
      "21    2021-04-01\n",
      "22    2021-04-02\n",
      "23    2021-05-01\n",
      "24    2021-05-17\n",
      "25    2021-06-07\n",
      "26    2021-06-14\n",
      "27    2021-07-05\n",
      "28    2021-07-20\n",
      "29    2021-08-07\n",
      "30    2021-08-16\n",
      "31    2021-10-18\n",
      "32    2021-11-01\n",
      "33    2021-11-15\n",
      "34    2021-12-08\n",
      "35    2021-12-25\n",
      "36    2022-01-01\n",
      "37    2022-01-10\n",
      "38    2022-03-21\n",
      "39    2022-04-14\n",
      "40    2022-04-15\n",
      "41    2022-05-01\n",
      "42    2022-05-30\n",
      "43    2022-06-20\n",
      "44    2022-06-27\n",
      "45    2022-07-04\n",
      "46    2022-07-20\n",
      "47    2022-08-07\n",
      "48    2022-08-15\n",
      "49    2022-10-17\n",
      "50    2022-11-07\n",
      "51    2022-11-14\n",
      "52    2022-12-08\n",
      "53    2022-12-25\n",
      "Name: date, dtype: object\n"
     ]
    }
   ],
   "source": [
    "import holidays_co\n",
    "hol = pd.DataFrame(holidays_co.get_colombia_holidays_by_year(2020))\n",
    "hol1= pd.DataFrame(holidays_co.get_colombia_holidays_by_year(2021))\n",
    "hol2=pd.DataFrame(holidays_co.get_colombia_holidays_by_year(2022))\n",
    "holiday=pd.concat([hol,hol1,hol2],axis=0, sort=False, ignore_index=True)\n",
    "print(holiday['date'])\n"
   ]
  },
  {
   "cell_type": "code",
   "execution_count": null,
   "metadata": {},
   "outputs": [],
   "source": [
    "for x in df['date']:\n",
    "      for y in holiday['date']:\n",
    "            if y in x:\n",
    "                  df['Festivo']='1'\n",
    "            else:\n",
    "                  df['Festivo']='0'\n",
    "                  \n",
    "\n",
    "\n",
    "import csv\n",
    "df.to_csv('Datos.csv', sep=\";\", quoting=csv.QUOTE_NONE, escapechar=\" \")\n"
   ]
  },
  {
   "cell_type": "code",
   "execution_count": null,
   "metadata": {},
   "outputs": [],
   "source": [
    "holiday"
   ]
  },
  {
   "cell_type": "code",
   "execution_count": null,
   "metadata": {},
   "outputs": [],
   "source": [
    "['Yes' for i in df.date if i in holiday.date]"
   ]
  },
  {
   "cell_type": "code",
   "execution_count": 8,
   "metadata": {},
   "outputs": [],
   "source": [
    "for i in df.date:\n",
    "    if i in holiday.date:\n",
    "        print(i)"
   ]
  },
  {
   "cell_type": "code",
   "execution_count": 9,
   "metadata": {},
   "outputs": [
    {
     "data": {
      "text/plain": [
       "datetime.date(2020, 1, 6)"
      ]
     },
     "execution_count": 9,
     "metadata": {},
     "output_type": "execute_result"
    }
   ],
   "source": [
    "holiday.date[1]"
   ]
  },
  {
   "cell_type": "code",
   "execution_count": 10,
   "metadata": {},
   "outputs": [
    {
     "data": {
      "text/plain": [
       "'2022-06-18'"
      ]
     },
     "execution_count": 10,
     "metadata": {},
     "output_type": "execute_result"
    }
   ],
   "source": [
    "df.date[0]"
   ]
  },
  {
   "cell_type": "code",
   "execution_count": null,
   "metadata": {},
   "outputs": [],
   "source": []
  }
 ],
 "metadata": {
  "interpreter": {
   "hash": "26de051ba29f2982a8de78e945f0abaf191376122a1563185a90213a26c5da77"
  },
  "kernelspec": {
   "display_name": "Python 3.10.0 64-bit",
   "language": "python",
   "name": "python3"
  },
  "language_info": {
   "codemirror_mode": {
    "name": "ipython",
    "version": 3
   },
   "file_extension": ".py",
   "mimetype": "text/x-python",
   "name": "python",
   "nbconvert_exporter": "python",
   "pygments_lexer": "ipython3",
   "version": "3.10.0"
  },
  "orig_nbformat": 4
 },
 "nbformat": 4,
 "nbformat_minor": 2
}
